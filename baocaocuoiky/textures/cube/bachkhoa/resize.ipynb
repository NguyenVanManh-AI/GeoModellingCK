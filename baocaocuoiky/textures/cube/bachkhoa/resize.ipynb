{
 "cells": [
  {
   "cell_type": "code",
   "execution_count": 15,
   "metadata": {},
   "outputs": [],
   "source": [
    "from PIL import Image\n",
    "\n",
    "def resize_image(input_image_path, output_image_path, size):\n",
    "    original_image = Image.open(input_image_path)\n",
    "    resized_image = original_image.resize(size)\n",
    "    resized_image.save(output_image_path)\n",
    "\n",
    "imgs = [\"bentrai\", \"benphai\", \"doidien\", \"matdat\", \"trendau\", \"saulung\"]\n",
    "new_size = (879, 879)  # Kích thước mới của ảnh (chiều rộng, chiều cao)\n",
    "\n",
    "for img in imgs: \n",
    "    input_image = img + \".JPG\"\n",
    "    output_image = img + \".png\"\n",
    "    resize_image(input_image, output_image, new_size)"
   ]
  }
 ],
 "metadata": {
  "kernelspec": {
   "display_name": "Python 3",
   "language": "python",
   "name": "python3"
  },
  "language_info": {
   "codemirror_mode": {
    "name": "ipython",
    "version": 3
   },
   "file_extension": ".py",
   "mimetype": "text/x-python",
   "name": "python",
   "nbconvert_exporter": "python",
   "pygments_lexer": "ipython3",
   "version": "3.10.6"
  }
 },
 "nbformat": 4,
 "nbformat_minor": 2
}
